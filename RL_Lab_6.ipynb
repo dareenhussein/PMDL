{
  "nbformat": 4,
  "nbformat_minor": 0,
  "metadata": {
    "colab": {
      "name": "RL Lab 6.ipynb",
      "provenance": [],
      "collapsed_sections": [
        "jrI6q7RmWQam"
      ],
      "include_colab_link": true
    },
    "kernelspec": {
      "name": "python3",
      "display_name": "Python 3"
    },
    "accelerator": "GPU"
  },
  "cells": [
    {
      "cell_type": "markdown",
      "metadata": {
        "id": "view-in-github",
        "colab_type": "text"
      },
      "source": [
        "<a href=\"https://colab.research.google.com/github/dareenhussein/PMDL/blob/main/RL_Lab_6.ipynb\" target=\"_parent\"><img src=\"https://colab.research.google.com/assets/colab-badge.svg\" alt=\"Open In Colab\"/></a>"
      ]
    },
    {
      "cell_type": "markdown",
      "metadata": {
        "id": "jrI6q7RmWQam"
      },
      "source": [
        "<table align=\"center\">\n",
        "  <td align=\"center\"><a target=\"_blank\" href=\"https://colab.research.google.com/github/KhaledElTahan/DeepLearning/blob/master/Labs/lab6/lab6.ipynb\">\n",
        "        <img src=\"http://introtodeeplearning.com/images/colab/colab.png?v2.0\"  style=\"padding-bottom:5px;\" />Run in Google Colab</a></td>\n",
        "</table>"
      ]
    },
    {
      "cell_type": "markdown",
      "metadata": {
        "id": "iHvW3OJaV41o"
      },
      "source": [
        "# Copyright Information\n",
        "**This lab is based on MIT Deep Learning Lab.**"
      ]
    },
    {
      "cell_type": "markdown",
      "metadata": {
        "id": "WoXYKhfZMHiw"
      },
      "source": [
        "# Lab 6: Cartpole - Reinforcement Learning\n",
        "\n",
        "Reinforcement learning (RL) is a subset of machine learning which poses learning problems as interactions between agents and environments. It often assumes agents have no prior knowledge of a world, so they must learn to navigate environments by optimizing a reward function. Within an environment, an agent can take certain actions and receive feedback, in the form of positive or negative rewards, with respect to their decision. As such, an agent's feedback loop is somewhat akin to the idea of \"trial and error\", or the manner in which a child might learn to distinguish between \"good\" and \"bad\" actions.\n",
        "\n",
        "In practical terms, our RL agent will interact with the environment by taking an action at each timestep, receiving a corresponding reward, and updating its state according to what it has \"learned\".  \n",
        "\n",
        "![alt text](https://www.kdnuggets.com/images/reinforcement-learning-fig1-700.jpg)\n",
        "\n",
        "While the ultimate goal of reinforcement learning is to teach agents to act in the real, physical world, games provide a convenient proving ground for developing RL algorithms and agents. Games have some properties that make them particularly well suited for RL: \n",
        "\n",
        "1.   In many cases, games have perfectly describable environments. For example, all rules of chess can be formally written and programmed into a chess game simulator;\n",
        "2.   Games are massively parallelizable. Since they do not require running in the real world, simultaneous environments can be run on large data clusters; \n",
        "3.   Simpler scenarios in games enable fast prototyping. This speeds up the development of algorithms that could eventually run in the real-world; and\n",
        "4.   ... Games are fun! \n",
        "\n",
        "In previous labs, we have explored supervised learning (with RNNs, CNNs). Reinforcement learning is fundamentally different, in that we are training a deep learning algorithm to govern the actions of our RL agent, that is trying, within its environment, to find the optimal way to achieve a goal. The goal of training an RL agent is to determine the best next step to take to earn the greatest final payoff or return. In this lab, we focus on building a reinforcement learning algorithm to master a cartpole environments in which Balance a pole, protruding from a cart, in an upright position by only moving the base left or right. Environment with a low-dimensional observation space.\n",
        "\n",
        "\n",
        "Let's get started! First we'll import TensorFlow, the course package, and some dependencies.\n"
      ]
    },
    {
      "cell_type": "code",
      "metadata": {
        "id": "EvdePP-VyVWp",
        "colab": {
          "base_uri": "https://localhost:8080/"
        },
        "outputId": "cf5f436c-c29f-4770-ecf5-e9d21da835db"
      },
      "source": [
        "#Install some dependencies for visualizing the agents\n",
        "!apt-get install -y xvfb python-opengl x11-utils > /dev/null 2>&1\n",
        "!pip install gym pyvirtualdisplay scikit-video > /dev/null 2>&1\n",
        "\n",
        "# Import Tensorflow 2.0\n",
        "%tensorflow_version 2.x\n",
        "import tensorflow as tf\n",
        "\n",
        "import numpy as np\n",
        "import base64, io, time, gym\n",
        "import IPython, functools\n",
        "import matplotlib.pyplot as plt\n",
        "import time\n",
        "from tqdm import tqdm\n",
        "\n",
        "# Download and import the MIT 6.S191 package\n",
        "!pip install mitdeeplearning\n",
        "import mitdeeplearning as mdl"
      ],
      "execution_count": 26,
      "outputs": [
        {
          "output_type": "stream",
          "text": [
            "Requirement already satisfied: mitdeeplearning in /usr/local/lib/python3.7/dist-packages (0.2.0)\n",
            "Requirement already satisfied: regex in /usr/local/lib/python3.7/dist-packages (from mitdeeplearning) (2019.12.20)\n",
            "Requirement already satisfied: numpy in /usr/local/lib/python3.7/dist-packages (from mitdeeplearning) (1.19.5)\n",
            "Requirement already satisfied: tqdm in /usr/local/lib/python3.7/dist-packages (from mitdeeplearning) (4.41.1)\n",
            "Requirement already satisfied: gym in /usr/local/lib/python3.7/dist-packages (from mitdeeplearning) (0.17.3)\n",
            "Requirement already satisfied: cloudpickle<1.7.0,>=1.2.0 in /usr/local/lib/python3.7/dist-packages (from gym->mitdeeplearning) (1.3.0)\n",
            "Requirement already satisfied: pyglet<=1.5.0,>=1.4.0 in /usr/local/lib/python3.7/dist-packages (from gym->mitdeeplearning) (1.5.0)\n",
            "Requirement already satisfied: scipy in /usr/local/lib/python3.7/dist-packages (from gym->mitdeeplearning) (1.4.1)\n",
            "Requirement already satisfied: future in /usr/local/lib/python3.7/dist-packages (from pyglet<=1.5.0,>=1.4.0->gym->mitdeeplearning) (0.16.0)\n"
          ],
          "name": "stdout"
        }
      ]
    },
    {
      "cell_type": "markdown",
      "metadata": {
        "id": "zmrHSiXKTXTY"
      },
      "source": [
        "Before we dive in, let's take a step back and outline our approach, which is generally applicable to reinforcement learning problems in general:\n",
        "\n",
        "1. **Initialize our environment and our agent**: here we will describe the different observations and actions the agent can make in the environemnt.\n",
        "2. **Define our agent's memory**: this will enable the agent to remember its past actions, observations, and rewards.\n",
        "3. **Define a reward function**: describes the reward associated with an action or sequence of actions.\n",
        "4. **Define the learning algorithm**: this will be used to reinforce the agent's good behaviors and discourage bad behaviors.\n"
      ]
    },
    {
      "cell_type": "markdown",
      "metadata": {
        "id": "UT7YL8KBJIIc"
      },
      "source": [
        "## 6.1 Define the Cartpole environment and agent\n",
        "\n",
        "### Environment \n",
        "\n",
        "In order to model the environment for both the Cartpole and Pong tasks, we'll be using a toolkit developed by OpenAI called [OpenAI Gym](https://gym.openai.com/). It provides several pre-defined environments for training and testing reinforcement learning agents, including those for classic physics control tasks, Atari video games, and robotic simulations. To access the Cartpole environment, we can use `env = gym.make(\"CartPole-v0\")`, which we gained access to when we imported the `gym` package. We can instantiate different [environments](https://gym.openai.com/envs/#classic_control) by passing the enivronment name to the `make` function.\n",
        "\n",
        "One issue we might experience when developing RL algorithms is that many aspects of the learning process are inherently random: initializing game states, changes in the environment, and the agent's actions. As such, it can be helpful to set a initial \"seed\" for the environment to ensure some level of reproducibility. Much like you might use `numpy.random.seed`, we can call the comparable function in gym, `seed`, with our defined environment to ensure the environment's random variables are initialized the same each time."
      ]
    },
    {
      "cell_type": "code",
      "metadata": {
        "id": "quv9SC0iIYFm",
        "colab": {
          "base_uri": "https://localhost:8080/"
        },
        "outputId": "b932656b-11bf-4ae4-8f4b-3f95bf0d94da"
      },
      "source": [
        "### Instantiate the Cartpole environment ###\n",
        "\n",
        "env = gym.make(\"CartPole-v0\")\n",
        "env.seed(1)"
      ],
      "execution_count": 27,
      "outputs": [
        {
          "output_type": "execute_result",
          "data": {
            "text/plain": [
              "[1]"
            ]
          },
          "metadata": {
            "tags": []
          },
          "execution_count": 27
        }
      ]
    },
    {
      "cell_type": "markdown",
      "metadata": {
        "id": "mhEITUcKK455"
      },
      "source": [
        "In Cartpole, a pole is attached by an un-actuated joint to a cart, which moves along a frictionless track. The pole starts upright, and the goal is to prevent it from falling over. The system is controlled by applying a force of +1 or -1 to the cart. A reward of +1 is provided for every timestep that the pole remains upright. The episode ends when the pole is more than 15 degrees from vertical, or the cart moves more than 2.4 units from the center of the track. A visual summary of the cartpole environment is depicted below:\n",
        "\n",
        "<img width=\"400px\" src=\"https://danielpiedrahita.files.wordpress.com/2017/02/cart-pole.png\"></img>\n",
        "\n",
        "Given this setup for the environment and the objective of the game, we can think about: 1) what observations help define the environment's state; 2) what actions the agent can take. \n",
        "\n",
        "First, let's consider the observation space. In this Cartpole environment our observations are:\n",
        "\n",
        "1. Cart position\n",
        "2. Cart velocity\n",
        "3. Pole angle\n",
        "4. Pole rotation rate\n",
        "\n",
        "We can confirm the size of the space by querying the environment's observation space:\n"
      ]
    },
    {
      "cell_type": "code",
      "metadata": {
        "id": "UVJaEcbdIX82",
        "colab": {
          "base_uri": "https://localhost:8080/"
        },
        "outputId": "c3fbbaeb-6677-43a9-cf34-4f1a4b5b0c06"
      },
      "source": [
        "n_observations = env.observation_space\n",
        "print(\"Environment has observation space =\", n_observations)"
      ],
      "execution_count": 28,
      "outputs": [
        {
          "output_type": "stream",
          "text": [
            "Environment has observation space = Box(-3.4028234663852886e+38, 3.4028234663852886e+38, (4,), float32)\n"
          ],
          "name": "stdout"
        }
      ]
    },
    {
      "cell_type": "markdown",
      "metadata": {
        "id": "ZibGgjrALgPM"
      },
      "source": [
        "Second, we consider the action space. At every time step, the agent can move either right or left. Again we can confirm the size of the action space by querying the environment:"
      ]
    },
    {
      "cell_type": "code",
      "metadata": {
        "id": "qc9SIPxBIXrm",
        "colab": {
          "base_uri": "https://localhost:8080/"
        },
        "outputId": "3c351c32-7095-494c-e69d-007ffc238d49"
      },
      "source": [
        "n_actions = env.action_space.n\n",
        "print(\"Number of possible actions that the agent can choose from =\", n_actions)"
      ],
      "execution_count": 29,
      "outputs": [
        {
          "output_type": "stream",
          "text": [
            "Number of possible actions that the agent can choose from = 2\n"
          ],
          "name": "stdout"
        }
      ]
    },
    {
      "cell_type": "markdown",
      "metadata": {
        "id": "pPfHME8aRKkb"
      },
      "source": [
        "### Cartpole agent\n",
        "\n",
        "Now that we have instantiated the environment and understood the dimensionality of the observation and action spaces, we are ready to define our agent. In deep reinforcement learning, a deep neural network defines the agent. This network will take as input an observation of the environment and output the probability of taking each of the possible actions. Since Cartpole is defined by a low-dimensional observation space, a simple feed-forward neural network should work well for our agent. We will define this using the `Sequential` API.\n",
        "\n",
        "**Important Note**: You need to remove the TODO comment from the model definition to avoid the syntax error.\n"
      ]
    },
    {
      "cell_type": "code",
      "metadata": {
        "id": "W-o_XK4oQ4eu"
      },
      "source": [
        "### Define the Cartpole agent ###\n",
        "\n",
        "# Defines a feed-forward neural network\n",
        "def create_cartpole_model():\n",
        "  model = tf.keras.models.Sequential([\n",
        "      # First Dense layer\n",
        "      tf.keras.layers.Dense(units=32, activation='relu'),\n",
        "\n",
        "      # TODO: Define the last Dense layer, which will provide the network's output. Think about the space the agent needs to act in!'''\n",
        "      tf.keras.layers.Dense(units=n_actions)\n",
        "  ])\n",
        "  return model\n",
        "\n",
        "cartpole_model = create_cartpole_model()"
      ],
      "execution_count": 30,
      "outputs": []
    },
    {
      "cell_type": "markdown",
      "metadata": {
        "id": "d5D5NSIYS2IW"
      },
      "source": [
        "Now that we have defined the core network architecture, we will define an *action function* that executes a forward pass through the network, given a set of observations, and samples from the output. This sampling from the output probabilities will be used to select the next action for the agent. We will also add support so that the `choose_action` function can handle either a single observation or a batch of observations.\n",
        "\n",
        "**Critically, this action function is totally general and is applicable to other RL tasks, as well!**"
      ]
    },
    {
      "cell_type": "code",
      "metadata": {
        "id": "E_vVZRr8Q4R_"
      },
      "source": [
        "### Define the agent's action function ###\n",
        "\n",
        "# Function that takes observations as input, executes a forward pass through model, \n",
        "#   and outputs a sampled action.\n",
        "# Arguments:\n",
        "#   model: the network that defines our agent\n",
        "#   observation: observation(s) which is/are fed as input to the model\n",
        "#   single: flag as to whether we are handling a single observation or batch of\n",
        "#     observations, provided as an np.array\n",
        "# Returns:\n",
        "#   action: choice of agent action\n",
        "def choose_action(model, observation, single=True):\n",
        "  # add batch dimension to the observation if only a single example was provided\n",
        "  observation = np.expand_dims(observation, axis=0) if single else observation\n",
        "\n",
        "  '''TODO: feed the observations through the model to predict the log \n",
        "  probabilities of each possible action.'''\n",
        "  logits = model.predict(observation)\n",
        "  \n",
        "  # Choose an action from the categorical distribution defined by the log \n",
        "  #     probabilities of each possible action.\n",
        "  action = tf.random.categorical(logits, num_samples=1)\n",
        "\n",
        "  action = action.numpy().flatten()\n",
        "\n",
        "  return action[0] if single else action"
      ],
      "execution_count": 31,
      "outputs": []
    },
    {
      "cell_type": "markdown",
      "metadata": {
        "id": "_tR9uAWcTnkr"
      },
      "source": [
        "## 6.2 Define the agent's memory\n",
        "\n",
        "Now that we have instantiated the environment and defined the agent network architecture and action function, we are ready to move on to the next step in our RL workflow:\n",
        "1. **Initialize our environment and our agent**: here we will describe the different observations and actions the agent can make in the environemnt.\n",
        "2. **Define our agent's memory**: this will enable the agent to remember its past actions, observations, and rewards.\n",
        "3. **Define the learning algorithm**: this will be used to reinforce the agent's good behaviors and discourage bad behaviors.\n",
        "\n",
        "In reinforcement learning, training occurs alongside the agent's acting in the environment; an *episode* refers to a sequence of actions that ends in some terminal state, such as the pole falling down or the cart crashing. The agent will need to remember all of its observations and actions, such that once an episode ends, it can learn to \"reinforce\" the good actions and punish the undesirable actions via training. Our first step is to define a simple `Memory` buffer that contains the agent's observations, actions, and received rewards from a given episode. We will also add support to combine a list of `Memory` objects into a single `Memory`. This will be very useful for batching, which will help you accelerate training later on in the lab.\n",
        "\n",
        "**Once again, note the modularity of this memory buffer -- it can and will be applied to other RL tasks as well!**"
      ]
    },
    {
      "cell_type": "code",
      "metadata": {
        "id": "8MM6JwXVQ4JG"
      },
      "source": [
        "### Agent Memory ###\n",
        "\n",
        "class Memory:\n",
        "  def __init__(self): \n",
        "      self.clear()\n",
        "\n",
        "  # Resets/restarts the memory buffer\n",
        "  def clear(self): \n",
        "      self.observations = []\n",
        "      self.actions = []\n",
        "      self.rewards = []\n",
        "\n",
        "  # Add observations, actions, rewards to memory\n",
        "  def add_to_memory(self, new_observation, new_action, new_reward): \n",
        "      self.observations.append(new_observation)\n",
        "\n",
        "      '''TODO: update the list of actions with new action'''\n",
        "      self.actions.append(new_action)\n",
        "\n",
        "      '''TODO: update the list of rewards with new reward'''\n",
        "      self.rewards.append(new_reward)\n",
        "\n",
        "# Helper function to combine a list of Memory objects into a single Memory.\n",
        "#     This will be very useful for batching.\n",
        "def aggregate_memories(memories):\n",
        "  batch_memory = Memory()\n",
        "  \n",
        "  for memory in memories:\n",
        "    for step in zip(memory.observations, memory.actions, memory.rewards):\n",
        "      batch_memory.add_to_memory(*step)\n",
        "  \n",
        "  return batch_memory\n",
        "\n",
        "# Instantiate a single Memory buffer\n",
        "memory = Memory()"
      ],
      "execution_count": 32,
      "outputs": []
    },
    {
      "cell_type": "markdown",
      "metadata": {
        "id": "D4YhtPaUVj5m"
      },
      "source": [
        "## 6.3 Reward function\n",
        "\n",
        "We're almost ready to begin the learning algorithm for our agent! The next step is to compute the rewards of our agent as it acts in the environment. Since we (and the agent) is uncertain about if and when the game or task will end (i.e., when the pole will fall), it is useful to emphasize getting rewards **now** rather than later in the future -- this is the idea of discounting. This is a similar concept to discounting money in the case of interest. ecall from lecture, we use reward discount to give more preference at getting rewards now rather than later in the future. The idea of discounting rewards is similar to discounting money in the case of interest.\n",
        "\n",
        "To compute the expected cumulative reward, known as the **return**, at a given timestep in a learning episode, we sum the discounted rewards expected at that time step $t$, within a learning episode, and projecting into the future. We define the return (cumulative reward) at a time step $t$, $R_{t}$ as:\n",
        "\n",
        ">$R_{t}=\\sum_{k=0}^\\infty\\gamma^kr_{t+k}$\n",
        "\n",
        "where  $0 < \\gamma < 1$ is the discount factor and $r_{t}$ is the reward at time step $t$, and the index $k$ increments projection into the future within a single learning episode. Intuitively, you can think of this function as depreciating any rewards received at later time steps, which will force the agent prioritize getting rewards now. Since we can't extend episodes to infinity, in practice the computation will be limited to the number of timesteps in an episode -- after that the reward is assumed to be zero.\n",
        "\n",
        "Take note of the form of this sum -- we'll have to be clever about how we implement this function. Specifically, we'll need to initialize an array of zeros, with length of the number of time steps, and fill it with the real discounted reward values as we loop through the rewards from the episode, which will have been saved in the agents memory. What we ultimately care about is which actions are better relative to other actions taken in that episode -- so, we'll normalize our computed rewards, using the mean and standard deviation of the rewards across the learning episode.\n"
      ]
    },
    {
      "cell_type": "code",
      "metadata": {
        "id": "5_Q2OFYtQ32X"
      },
      "source": [
        "### Reward function ###\n",
        "\n",
        "# Helper function that normalizes an np.array x\n",
        "def normalize(x):\n",
        "  x -= np.mean(x)\n",
        "  x /= np.std(x)\n",
        "  return x.astype(np.float32)\n",
        "\n",
        "# Compute normalized, discounted, cumulative rewards (i.e., return)\n",
        "# Arguments:\n",
        "#   rewards: reward at timesteps in episode\n",
        "#   gamma: discounting factor\n",
        "# Returns:\n",
        "#   normalized discounted reward\n",
        "def discount_rewards(rewards, gamma=0.95): \n",
        "  discounted_rewards = np.zeros_like(rewards)\n",
        "  R = 0\n",
        "  for t in reversed(range(0, len(rewards))):\n",
        "      # update the total discounted reward\n",
        "      R = R * gamma + rewards[t]\n",
        "      discounted_rewards[t] = R\n",
        "      \n",
        "  return normalize(discounted_rewards)"
      ],
      "execution_count": 33,
      "outputs": []
    },
    {
      "cell_type": "markdown",
      "metadata": {
        "id": "QzbY-mjGYcmt"
      },
      "source": [
        "## 6.4 Learning algorithm\n",
        "\n",
        "Now we can start to define the learing algorithm which will be used to reinforce good behaviors of the agent and discourage bad behaviours. In this lab, we will focus on *policy gradient* methods which aim to **maximize** the likelihood of actions that result in large rewards. Equivalently, this means that we want to **minimize** the negative likelihood of these same actions. We achieve this by simply **scaling** (aka multiplying) the probabilities by their associated rewards -- effectively amplifying the likelihood of actions that result in large rewards.\n",
        "\n",
        "Since the log function is monotonically increasing, this means that minimizing **negative likelihood** is equivalent to minimizing **negative log-likelihood**.  Recall that we can easily compute the negative log-likelihood of a discrete action by evaluting its [softmax cross entropy](https://www.tensorflow.org/api_docs/python/tf/nn/sparse_softmax_cross_entropy_with_logits). Like in supervised learning, we can use stochastic gradient descent methods to achieve the desired minimization. \n",
        "\n",
        "Let's begin by defining the loss function."
      ]
    },
    {
      "cell_type": "code",
      "metadata": {
        "id": "fsgZ3IDCY_Zn"
      },
      "source": [
        "### Loss function ###\n",
        "\n",
        "# Arguments:\n",
        "#   logits: network's predictions for actions to take\n",
        "#   actions: the actions the agent took in an episode\n",
        "#   rewards: the rewards the agent received in an episode\n",
        "# Returns:\n",
        "#   loss\n",
        "def compute_loss(logits, actions, rewards): \n",
        "  '''TODO: complete the function call to compute the negative log probabilities'''\n",
        "  neg_logprob = tf.nn.sparse_softmax_cross_entropy_with_logits(logits=logits, labels=actions)\n",
        "  \n",
        "  '''TODO: scale (multiplty) the negative log probability by the rewards'''\n",
        "  loss = tf.reduce_mean(neg_logprob*rewards)\n",
        "  \n",
        "  return loss"
      ],
      "execution_count": 25,
      "outputs": []
    },
    {
      "cell_type": "markdown",
      "metadata": {
        "id": "Rr5vQ9fqbPpp"
      },
      "source": [
        "Now let's use the loss function to define a training step of our learning algorithm:"
      ]
    },
    {
      "cell_type": "code",
      "metadata": {
        "id": "_50ada7nbZ7L"
      },
      "source": [
        "### Training step (forward and backpropagation) ###\n",
        "\n",
        "def train_step(model, optimizer, observations, actions, discounted_rewards):\n",
        "  with tf.GradientTape() as tape:\n",
        "      # Forward propagate through the agent network\n",
        "      logits = model(observations)\n",
        "\n",
        "      '''TODO: call the compute_loss function to compute the loss'''\n",
        "      loss = compute_loss(logits, actions, discounted_rewards)\n",
        "\n",
        "  # Run backpropagation to minimize the loss using the tape.gradient method\n",
        "  grads = tape.gradient(loss, model.trainable_variables)\n",
        "  optimizer.apply_gradients(zip(grads, model.trainable_variables))\n"
      ],
      "execution_count": 22,
      "outputs": []
    },
    {
      "cell_type": "markdown",
      "metadata": {
        "id": "XsjKXh6BcgjR"
      },
      "source": [
        "## 6.5 Run cartpole!\n",
        "\n",
        "Having had no prior knowledge of the environment, the agent will begin to learn how to balance the pole on the cart based only on the feedback received from the environment! Having defined how our agent can move, how it takes in new observations, and how it updates its state, we'll see how it gradually learns a policy of actions to optimize balancing the pole as long as possible. To do this, we'll track how the rewards evolve as a function of training -- how should the rewards change as training progresses?"
      ]
    },
    {
      "cell_type": "code",
      "metadata": {
        "id": "XmOzc2rrcn8Q",
        "colab": {
          "base_uri": "https://localhost:8080/",
          "height": 540
        },
        "outputId": "4398ce85-1a36-4879-8760-8156ec1ddcf0"
      },
      "source": [
        "### Cartpole training! ###\n",
        "\n",
        "# Learning rate and optimizer\n",
        "learning_rate = 1e-3\n",
        "optimizer = tf.keras.optimizers.Adam(learning_rate)\n",
        "\n",
        "# instantiate cartpole agent\n",
        "cartpole_model = create_cartpole_model()\n",
        "\n",
        "# to track our progress\n",
        "smoothed_reward = mdl.util.LossHistory(smoothing_factor=0.9)\n",
        "plotter = mdl.util.PeriodicPlotter(sec=2, xlabel='Iterations', ylabel='Rewards')\n",
        "\n",
        "if hasattr(tqdm, '_instances'): tqdm._instances.clear() # clear if it exists\n",
        "for i_episode in range(500):\n",
        "\n",
        "  plotter.plot(smoothed_reward.get())\n",
        "\n",
        "  # Restart the environment\n",
        "  observation = env.reset()\n",
        "  memory.clear()\n",
        "\n",
        "  while True:\n",
        "      # using our observation, choose an action and take it in the environment\n",
        "      action = choose_action(cartpole_model, observation)\n",
        "      next_observation, reward, done, info = env.step(action)\n",
        "      # add to memory\n",
        "      memory.add_to_memory(observation, action, reward)\n",
        "      \n",
        "      # is the episode over? did you crash or do so well that you're done?\n",
        "      if done:\n",
        "          # determine total reward and keep a record of this\n",
        "          total_reward = sum(memory.rewards)\n",
        "          smoothed_reward.append(total_reward)\n",
        "          \n",
        "          # initiate training - remember we don't know anything about how the \n",
        "          #   agent is doing until it has crashed!\n",
        "          train_step(cartpole_model, optimizer, \n",
        "                     observations=np.vstack(memory.observations),\n",
        "                     actions=np.array(memory.actions),\n",
        "                     discounted_rewards = discount_rewards(memory.rewards))\n",
        "          \n",
        "          # reset the memory\n",
        "          memory.clear()\n",
        "          break\n",
        "      # update our observatons\n",
        "      observation = next_observation"
      ],
      "execution_count": 23,
      "outputs": [
        {
          "output_type": "display_data",
          "data": {
            "image/png": "[encoded data removed]",
            "text/plain": [
              "<Figure size 432x288 with 1 Axes>"
            ]
          },
          "metadata": {
            "tags": []
          }
        },
        {
          "output_type": "display_data",
          "data": {
            "image/png": "[encoded data removed]",
            "text/plain": [
              "<Figure size 432x288 with 1 Axes>"
            ]
          },
          "metadata": {
            "tags": [],
            "needs_background": "light"
          }
        }
      ]
    },
    {
      "cell_type": "markdown",
      "metadata": {
        "id": "mkcUtGF1VE-K"
      },
      "source": [
        "To get a sense of how our agent did, we can save a video of the trained model working on balancing the pole. Realize that this is a brand new environment that the agent has not seen before!\n",
        "\n",
        "Let's display the saved video to watch how our agent did!\n"
      ]
    },
    {
      "cell_type": "code",
      "metadata": {
        "id": "PAYBkv6Zbk0J",
        "colab": {
          "base_uri": "https://localhost:8080/",
          "height": 189
        },
        "outputId": "dd7046b0-546b-4ede-f2d1-0d974fc24606"
      },
      "source": [
        "saved_cartpole = mdl.lab3.save_video_of_model(cartpole_model, \"CartPole-v0\")\n",
        "mdl.lab3.play_video(saved_cartpole)"
      ],
      "execution_count": 24,
      "outputs": [
        {
          "output_type": "stream",
          "text": [
            "Successfully saved 200 frames into CartPole-v0.mp4!\n"
          ],
          "name": "stdout"
        },
        {
          "output_type": "execute_result",
          "data": {
            "text/html": [
              "\n",
              "        <video controls >\n",
              "            <source src=\"data:video/mp4;base64,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\" type=\"video/mp4\" />\n",
              "        </video>"
            ],
            "text/plain": [
              "<IPython.core.display.HTML object>"
            ]
          },
          "metadata": {
            "tags": []
          },
          "execution_count": 24
        }
      ]
    },
    {
      "cell_type": "markdown",
      "metadata": {
        "id": "CSbVNDpaVb3_"
      },
      "source": [
        "How does the agent perform? Could you train it for shorter amounts of time and still perform well? Do you think that training longer would help even more? "
      ]
    },
    {
      "cell_type": "markdown",
      "metadata": {
        "id": "3OEdcTe9Yju3"
      },
      "source": [
        "\n",
        "## 6.6 Conclusion\n",
        "\n",
        "That's it! Congratulations on training a cartpole with reinforcement model.\n",
        "\n",
        "Make sure you deliver all the requirements for the submission."
      ]
    }
  ]
}